{
 "cells": [
  {
   "cell_type": "markdown",
   "metadata": {},
   "source": [
    "# Sorting Algorithms\n",
    "\n",
    "This notebook is inspired by https://www.toptal.com/developers/sorting-algorithms and contains a re-creation of the popular sorting algorithms in Python"
   ]
  },
  {
   "cell_type": "code",
   "execution_count": 2,
   "metadata": {},
   "outputs": [],
   "source": [
    "from __future__ import print_function\n",
    "\n",
    "import random\n",
    "import time\n",
    "import matplotlib.pyplot as plt\n",
    "from IPython import display\n",
    "import pylab\n",
    "\n",
    "%matplotlib inline\n"
   ]
  },
  {
   "cell_type": "code",
   "execution_count": 3,
   "metadata": {},
   "outputs": [
    {
     "data": {
      "text/plain": [
       "[4, 6, 3, 2, 5, 10, 9, 8, 7, 1]"
      ]
     },
     "execution_count": 3,
     "metadata": {},
     "output_type": "execute_result"
    }
   ],
   "source": [
    "# Get an unsorted list of 100 numbers\n",
    "random.seed = 123\n",
    "\n",
    "unsorted = [x+1 for x in range(10)]\n",
    "\n",
    "random.shuffle(unsorted)\n",
    "unsorted"
   ]
  },
  {
   "cell_type": "markdown",
   "metadata": {},
   "source": [
    "## Properties of Sorting Algorithms\n",
    "\n",
    "- Stable: Equal keys aren’t reordered.\n",
    "- Operates in place, requiring O(1) extra space.\n",
    "- Worst-case O(n·lg(n)) key comparisons.\n",
    "- Worst-case O(n) swaps.\n",
    "- Adaptive: Speeds up to O(n) when data is nearly sorted or when there are few unique keys."
   ]
  },
  {
   "cell_type": "code",
   "execution_count": 4,
   "metadata": {},
   "outputs": [],
   "source": [
    "def plot_sort(arr):\n",
    "\n",
    "#     plt.bar(range(len(arr)),arr)\n",
    "#     display.clear_output(wait=True)\n",
    "#     display.display(plt.gcf())\n",
    "#     time.sleep(0.05)\n",
    "    pylab.clf()\n",
    "    pylab.plot(range(len(arr)),arr,'k.',markersize=6)\n",
    "    plt.show()"
   ]
  },
  {
   "cell_type": "markdown",
   "metadata": {},
   "source": [
    "## Bubble Sort\n",
    "\n",
    "Complexity: O(n^2)\n"
   ]
  },
  {
   "cell_type": "code",
   "execution_count": null,
   "metadata": {},
   "outputs": [],
   "source": [
    "#             print(f\"{i}:{j}\\nBefore\\t: {A}\")      \n",
    "#                 print(f\"After\\t: {A}\")"
   ]
  },
  {
   "cell_type": "code",
   "execution_count": 25,
   "metadata": {},
   "outputs": [],
   "source": [
    "def bubble_sort(A): \n",
    "    n = len(A)\n",
    "    if n == 1:\n",
    "        return A\n",
    "    \n",
    "    # Loop through all the elements in the list\n",
    "    for i in range(n):\n",
    "        swapped = False\n",
    "        # Only look at the first n-i items as the last i items are already in order\n",
    "        for j in range(0,n-i-1):\n",
    "            if A[j] > A[j+1]:\n",
    "                A[j], A[j+1] = A[j+1], A[j]\n",
    "                swapped = True\n",
    "        # Exit if no items have been swapped through an iteration\n",
    "        if not swapped:\n",
    "                break\n",
    "            \n",
    "    return A"
   ]
  },
  {
   "cell_type": "code",
   "execution_count": 31,
   "metadata": {},
   "outputs": [
    {
     "name": "stdout",
     "output_type": "stream",
     "text": [
      "CPU times: user 22 µs, sys: 2 µs, total: 24 µs\n",
      "Wall time: 24.8 µs\n"
     ]
    }
   ],
   "source": [
    "%time sorted_arr = bubble_sort(unsorted.copy())"
   ]
  },
  {
   "cell_type": "markdown",
   "metadata": {},
   "source": [
    "## Selection Sort\n",
    "\n",
    "Complexity: O(n^2)"
   ]
  },
  {
   "cell_type": "code",
   "execution_count": 21,
   "metadata": {},
   "outputs": [],
   "source": [
    "def selection_sort(A):\n",
    "    n = len(A)\n",
    "    if n == 1:\n",
    "        return A\n",
    "\n",
    "    # Loop through all the elements in the list\n",
    "    for i in range (n):\n",
    "        min_index = i\n",
    "#         print(f\"Before\\t: {A}\")\n",
    "        for j in range(i+1,n):\n",
    "#             print(f\"{i}:{j}\")\n",
    "            if A[j] < A[min_index]:\n",
    "                min_index = j\n",
    "#                 print(f\"min_index:{min_index}\")\n",
    "                \n",
    "        A[i], A[min_index] = A[min_index], A[i]\n",
    "#         print(f\"After\\t: {A}\") \n",
    "    return A\n",
    "          "
   ]
  },
  {
   "cell_type": "code",
   "execution_count": 38,
   "metadata": {},
   "outputs": [
    {
     "name": "stdout",
     "output_type": "stream",
     "text": [
      "CPU times: user 15 µs, sys: 0 ns, total: 15 µs\n",
      "Wall time: 17.9 µs\n"
     ]
    }
   ],
   "source": [
    "%time sorted_arr = selection_sort(unsorted.copy())"
   ]
  },
  {
   "cell_type": "code",
   "execution_count": null,
   "metadata": {},
   "outputs": [],
   "source": []
  },
  {
   "cell_type": "code",
   "execution_count": null,
   "metadata": {},
   "outputs": [],
   "source": []
  },
  {
   "cell_type": "code",
   "execution_count": null,
   "metadata": {},
   "outputs": [],
   "source": []
  }
 ],
 "metadata": {
  "kernelspec": {
   "display_name": "Python 3",
   "language": "python",
   "name": "python3"
  },
  "language_info": {
   "codemirror_mode": {
    "name": "ipython",
    "version": 3
   },
   "file_extension": ".py",
   "mimetype": "text/x-python",
   "name": "python",
   "nbconvert_exporter": "python",
   "pygments_lexer": "ipython3",
   "version": "3.8.1"
  }
 },
 "nbformat": 4,
 "nbformat_minor": 4
}
